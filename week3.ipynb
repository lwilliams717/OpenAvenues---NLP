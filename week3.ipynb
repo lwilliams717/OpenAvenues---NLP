{
 "cells": [
  {
   "attachments": {},
   "cell_type": "markdown",
   "id": "60c6467b",
   "metadata": {},
   "source": [
    "# Open Avenues - Week 3"
   ]
  },
  {
   "cell_type": "code",
   "execution_count": 24,
   "id": "c84ba191",
   "metadata": {},
   "outputs": [
    {
     "name": "stdout",
     "output_type": "stream",
     "text": [
      "954 954 954 954\n"
     ]
    }
   ],
   "source": [
    "import pandas as pd\n",
    "from sklearn.feature_extraction.text import TfidfVectorizer\n",
    "vectorizer = TfidfVectorizer()\n",
    "df = pd.read_csv(\"open_ave_data.csv\")\n",
    "\n",
    "# modifying the dataset and replacing any NaN values with a NAN keyword\n",
    "df.fillna(\"NAN\", inplace=True)\n",
    "\n",
    "# reducing each column to its own corpus\n",
    "findings = df[\"findings\"].values.tolist()\n",
    "clinical = df[\"clinicaldata\"].values.tolist()\n",
    "exam = df[\"ExamName\"].values.tolist()\n",
    "impression = df[\"impression\"].values.tolist()\n",
    "\n",
    "# combine the categories\n",
    "all_documents = findings + clinical + exam + impression\n",
    "print(len(findings), len(clinical), len(exam), len(impression))"
   ]
  },
  {
   "cell_type": "code",
   "execution_count": 25,
   "id": "d5e19f93",
   "metadata": {},
   "outputs": [],
   "source": [
    "tfidf_documents = vectorizer.fit_transform(all_documents)"
   ]
  },
  {
   "attachments": {},
   "cell_type": "markdown",
   "id": "2ec0cb56",
   "metadata": {},
   "source": [
    "Here's a TF-IDF matrix for each category of the dataset"
   ]
  },
  {
   "cell_type": "code",
   "execution_count": 26,
   "id": "8dc44d41",
   "metadata": {
    "scrolled": true
   },
   "outputs": [
    {
     "data": {
      "text/plain": [
       "(954, 628)"
      ]
     },
     "execution_count": 26,
     "metadata": {},
     "output_type": "execute_result"
    }
   ],
   "source": [
    "\n",
    "vectorizer1 = TfidfVectorizer()\n",
    "find_tfidf = vectorizer1.fit_transform(findings)\n",
    "find_tfidf.toarray()\n",
    "find_tfidf.shape\n",
    "# vectorizer1.get_feature_names_out()"
   ]
  },
  {
   "cell_type": "code",
   "execution_count": 27,
   "id": "06218506",
   "metadata": {},
   "outputs": [
    {
     "data": {
      "text/plain": [
       "(954, 283)"
      ]
     },
     "execution_count": 27,
     "metadata": {},
     "output_type": "execute_result"
    }
   ],
   "source": [
    "vectorizer2 = TfidfVectorizer()\n",
    "clin_tfidf = vectorizer2.fit_transform(clinical)\n",
    "clin_tfidf.toarray()\n",
    "clin_tfidf.shape\n",
    "# vectorizer2.get_feature_names_out()"
   ]
  },
  {
   "cell_type": "code",
   "execution_count": 28,
   "id": "13662080",
   "metadata": {},
   "outputs": [
    {
     "data": {
      "text/plain": [
       "(954, 238)"
      ]
     },
     "execution_count": 28,
     "metadata": {},
     "output_type": "execute_result"
    }
   ],
   "source": [
    "vectorizer3 = TfidfVectorizer()\n",
    "exam_tfidf = vectorizer3.fit_transform(exam)\n",
    "exam_tfidf.toarray()\n",
    "exam_tfidf.shape\n",
    "# vectorizer3.get_feature_names_out()"
   ]
  },
  {
   "cell_type": "code",
   "execution_count": 29,
   "id": "39df7662",
   "metadata": {},
   "outputs": [
    {
     "data": {
      "text/plain": [
       "(954, 513)"
      ]
     },
     "execution_count": 29,
     "metadata": {},
     "output_type": "execute_result"
    }
   ],
   "source": [
    "vectorizer4 = TfidfVectorizer()\n",
    "impr_tfidf = vectorizer4.fit_transform(impression)\n",
    "impr_tfidf.toarray()\n",
    "impr_tfidf.shape\n",
    "# vectorizer4.get_feature_names_out()"
   ]
  },
  {
   "attachments": {},
   "cell_type": "markdown",
   "id": "92abe4d9",
   "metadata": {},
   "source": [
    "Here's a combined Matrix of all TF-IDF matrices from our dataset"
   ]
  },
  {
   "cell_type": "code",
   "execution_count": 35,
   "id": "cc0dc6b5",
   "metadata": {},
   "outputs": [
    {
     "name": "stdout",
     "output_type": "stream",
     "text": [
      "(3816, 1084)\n"
     ]
    },
    {
     "data": {
      "text/plain": [
       "array([[0., 0., 0., ..., 0., 0., 0.],\n",
       "       [0., 0., 0., ..., 0., 0., 0.],\n",
       "       [0., 0., 0., ..., 0., 0., 0.],\n",
       "       ...,\n",
       "       [0., 0., 0., ..., 0., 0., 0.],\n",
       "       [0., 0., 0., ..., 0., 0., 0.],\n",
       "       [0., 0., 0., ..., 0., 0., 0.]])"
      ]
     },
     "execution_count": 35,
     "metadata": {},
     "output_type": "execute_result"
    }
   ],
   "source": [
    "print(documents_tfidf.shape)\n",
    "tfidf_documents.toarray()"
   ]
  },
  {
   "attachments": {},
   "cell_type": "markdown",
   "id": "299c4ee1",
   "metadata": {},
   "source": [
    "Now, I'm going to plot the TF-IDF matrix onto the same scatter plot. This way,  we can have a visual example of how similar or different each of the documents are in each category."
   ]
  },
  {
   "cell_type": "code",
   "execution_count": 31,
   "id": "5e34724f",
   "metadata": {},
   "outputs": [
    {
     "data": {
      "image/png": "[encoded data removed]",
      "text/plain": [
       "<Figure size 432x288 with 1 Axes>"
      ]
     },
     "metadata": {
      "needs_background": "light"
     },
     "output_type": "display_data"
    }
   ],
   "source": [
    "from sklearn.decomposition import PCA\n",
    "import matplotlib.pyplot as plt\n",
    "\n",
    "# all_tfidf = [find_tfidf, clin_tfidf, exam_tfidf, impr_tfidf]\n",
    "\n",
    "colors = ['red', 'green', 'blue','yellow']\n",
    "labels = ['Findings', 'Clinical Data', 'Exam Name', 'Impressions']\n",
    "\n",
    "pca = PCA(n_components=2)\n",
    "tfidf_matrix_2d = pca.fit_transform(tfidf_documents.toarray())\n",
    "# print(tfidf_matrix_2d.shape)\n",
    "color = -1\n",
    "label = -1\n",
    "for i, document in enumerate(tfidf_matrix_2d):\n",
    "    if i % 954 == 0:\n",
    "        color+=1\n",
    "        label+=1\n",
    "    x_coords = document[0]\n",
    "    y_coords = document[1]\n",
    "    plt.scatter(x_coords, y_coords, color=colors[color], label=labels[label])\n",
    "\n",
    "# Set plot title and axis labels.\n",
    "plt.title(\"TF-IDF Matrix Scatter Plot\")\n",
    "plt.xlabel(\"Dimension 1\")\n",
    "plt.ylabel(\"Dimension 2\")\n",
    "\n",
    "# Display the scatter plot.\n",
    "plt.show()"
   ]
  },
  {
   "cell_type": "code",
   "execution_count": 32,
   "id": "43194167",
   "metadata": {},
   "outputs": [
    {
     "name": "stdout",
     "output_type": "stream",
     "text": [
      "(3816, 1084)\n",
      "[[ 0.60987198 -0.28141284]\n",
      " [ 0.49138739 -0.21642179]\n",
      " [ 0.60987198 -0.28141284]\n",
      " ...\n",
      " [-0.08106935  0.45872004]\n",
      " [ 0.00920798  0.02914884]\n",
      " [ 0.04617563 -0.0114492 ]]\n"
     ]
    }
   ],
   "source": [
    "print(tfidf_documents.shape)\n",
    "print(tfidf_matrix_2d)"
   ]
  }
 ],
 "metadata": {
  "kernelspec": {
   "display_name": "Python 3 (ipykernel)",
   "language": "python",
   "name": "python3"
  },
  "language_info": {
   "codemirror_mode": {
    "name": "ipython",
    "version": 3
   },
   "file_extension": ".py",
   "mimetype": "text/x-python",
   "name": "python",
   "nbconvert_exporter": "python",
   "pygments_lexer": "ipython3",
   "version": "3.9.12"
  }
 },
 "nbformat": 4,
 "nbformat_minor": 5
}
