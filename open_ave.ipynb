{
 "cells": [
  {
   "attachments": {},
   "cell_type": "markdown",
   "id": "08378abb",
   "metadata": {},
   "source": [
    "# Week 2 Micro - Internship Open Avenues"
   ]
  },
  {
   "cell_type": "code",
   "execution_count": 37,
   "id": "ac3127af",
   "metadata": {},
   "outputs": [],
   "source": [
    "import pandas as pd\n",
    "import numpy as np\n",
    "csv = pd.read_csv(\"open_ave_data.csv\")\n",
    "csv.fillna(\"empty\", inplace=True)"
   ]
  },
  {
   "attachments": {},
   "cell_type": "markdown",
   "id": "9a2d95c8",
   "metadata": {},
   "source": [
    "Analyzing Text Statistics"
   ]
  },
  {
   "attachments": {},
   "cell_type": "markdown",
   "id": "b60fe37b",
   "metadata": {},
   "source": [
    "For these examples of text statistics, I will first analyze the character length of all of the categories in the dataset to see how each one differs from the other."
   ]
  },
  {
   "cell_type": "code",
   "execution_count": 38,
   "id": "a6a20922",
   "metadata": {},
   "outputs": [
    {
     "data": {
      "text/plain": [
       "([<matplotlib.axis.XTick at 0x19b2b636cd0>,\n",
       "  <matplotlib.axis.XTick at 0x19b2b636ca0>,\n",
       "  <matplotlib.axis.XTick at 0x19b2b6363d0>,\n",
       "  <matplotlib.axis.XTick at 0x19b2b7b1eb0>],\n",
       " [Text(0, 0, 'impressions'),\n",
       "  Text(1, 0, 'findings'),\n",
       "  Text(2, 0, 'clinical data'),\n",
       "  Text(3, 0, 'exam')])"
      ]
     },
     "execution_count": 38,
     "metadata": {},
     "output_type": "execute_result"
    },
    {
     "data": {
      "image/png": "[encoded data removed]",
      "text/plain": [
       "<Figure size 432x288 with 1 Axes>"
      ]
     },
     "metadata": {
      "needs_background": "light"
     },
     "output_type": "display_data"
    }
   ],
   "source": [
    "import matplotlib.pyplot as plt\n",
    "\n",
    "impression = csv[\"impression\"]\n",
    "findings = csv[\"findings\"]\n",
    "clinical = csv[\"clinicaldata\"]\n",
    "exam = csv[\"ExamName\"]\n",
    "impr_mean = impression.str.len().mean()\n",
    "find_mean = findings.str.len().mean()\n",
    "clin_mean = clinical.str.len().mean()\n",
    "exam_mean = exam.str.len().mean()\n",
    "\n",
    "char_len = [impr_mean, find_mean, clin_mean, exam_mean]\n",
    "labels = [\"impressions\", \"findings\", \"clinical data\", \"exam\"]\n",
    "\n",
    "x = range(len(char_len))\n",
    "\n",
    "plt.bar(x, char_len)\n",
    "plt.xticks(x,labels)"
   ]
  },
  {
   "attachments": {},
   "cell_type": "markdown",
   "id": "3479c68b",
   "metadata": {},
   "source": [
    "Clearly, findings happen to be the column with the most characters, and clinical data is the shortest. I think this may reveal interesting information about how we can classify some of the categories by character count alone."
   ]
  },
  {
   "attachments": {},
   "cell_type": "markdown",
   "id": "6447fb71",
   "metadata": {},
   "source": [
    "Now, let's analyze word length."
   ]
  },
  {
   "cell_type": "code",
   "execution_count": 49,
   "id": "1e6d35b3",
   "metadata": {
    "scrolled": true
   },
   "outputs": [
    {
     "name": "stdout",
     "output_type": "stream",
     "text": [
      "[7.397103481634924, 6.615285952080443, 6.626108375991428, 5.63506436637687]\n"
     ]
    },
    {
     "data": {
      "image/png": "[encoded data removed]",
      "text/plain": [
       "<Figure size 432x288 with 1 Axes>"
      ]
     },
     "metadata": {
      "needs_background": "light"
     },
     "output_type": "display_data"
    }
   ],
   "source": [
    "impr_words = impression.str.split().apply(lambda x : [len(i) for i in x]).map(lambda x: np.mean(x)).mean()\n",
    "findings_words = findings.str.split().apply(lambda x : [len(i) for i in x]).map(lambda x: np.mean(x)).mean()\n",
    "\n",
    "clin_words = clinical.str.split().apply(lambda x : [len(i) for i in x]).map(lambda x: np.mean(x)).mean()\n",
    "exam_words = exam.str.split().apply(lambda x : [len(i) for i in x]).map(lambda x: np.mean(x)).mean()\n",
    "\n",
    "words_bar = [impr_words, findings_words, clin_words, exam_words]\n",
    "x = range(len(words_bar))\n",
    "plt.bar(x, words_bar)\n",
    "plt.xticks(x,labels)\n",
    "print(words_bar)"
   ]
  },
  {
   "attachments": {},
   "cell_type": "markdown",
   "id": "47446561",
   "metadata": {},
   "source": [
    "Interestingly, impressions tend to have longer words on average than findings. Exams tend to have the shortest words with makes the most sense considering the data."
   ]
  },
  {
   "attachments": {},
   "cell_type": "markdown",
   "id": "de416c6e",
   "metadata": {},
   "source": [
    "The next section will involve finding the frequency of stop words from the impressions. Here, I'll use the NLTK library to get a list of english stop words and some data structures such as a FreqDist to help me count the frequency of the stop words."
   ]
  },
  {
   "cell_type": "code",
   "execution_count": 65,
   "id": "1241a23b",
   "metadata": {},
   "outputs": [
    {
     "data": {
      "text/plain": [
       "<AxesSubplot:>"
      ]
     },
     "execution_count": 65,
     "metadata": {},
     "output_type": "execute_result"
    },
    {
     "data": {
      "image/png": "[encoded data removed]",
      "text/plain": [
       "<Figure size 432x288 with 1 Axes>"
      ]
     },
     "metadata": {
      "needs_background": "light"
     },
     "output_type": "display_data"
    }
   ],
   "source": [
    "import nltk\n",
    "from nltk import FreqDist\n",
    "from nltk.corpus import stopwords\n",
    "from nltk.tokenize import word_tokenize\n",
    "\n",
    "stop=set(stopwords.words('english'))\n",
    "words = impression.apply(lambda x : word_tokenize(x)).values.tolist()\n",
    "words = [word for i in words for word in i]\n",
    "\n",
    "stop_words = [i for i in words if i in stop]\n",
    "\n",
    "stop_freq = FreqDist(stop_words)\n",
    "stop_fdist = pd.Series(dict(stop_freq.most_common(20)))\n",
    "\n",
    "stop_fdist.plot.bar()"
   ]
  },
  {
   "attachments": {},
   "cell_type": "markdown",
   "id": "8a463f27",
   "metadata": {},
   "source": [
    "I'll rerun the same code, but this time on the non-stop words. Let's see what the results will yield."
   ]
  },
  {
   "cell_type": "code",
   "execution_count": 66,
   "id": "cd51b602",
   "metadata": {},
   "outputs": [
    {
     "data": {
      "text/plain": [
       "<AxesSubplot:>"
      ]
     },
     "execution_count": 66,
     "metadata": {},
     "output_type": "execute_result"
    },
    {
     "data": {
      "image/png": "[encoded data removed]",
      "text/plain": [
       "<Figure size 432x288 with 1 Axes>"
      ]
     },
     "metadata": {
      "needs_background": "light"
     },
     "output_type": "display_data"
    }
   ],
   "source": [
    "# removing stop words from the list\n",
    "impr_words = [i for i in words if i not in stop]\n",
    "\n",
    "impr_fdist = FreqDist(impr_words)\n",
    "impr_fdist = pd.Series(dict(impr_fdist.most_common(20)))\n",
    "\n",
    "impr_fdist.plot.bar()"
   ]
  },
  {
   "attachments": {},
   "cell_type": "markdown",
   "id": "800ad369",
   "metadata": {},
   "source": [
    "It seems to be a lot of punctuation marks in the data that are making the results a bit hard to read. I'll remove them in the next step by using a RegEx tokenizer that will remove punctuation and only maintain alphanumeric characters. "
   ]
  },
  {
   "cell_type": "code",
   "execution_count": 93,
   "id": "4b4c8127",
   "metadata": {},
   "outputs": [
    {
     "data": {
      "text/plain": [
       "<AxesSubplot:>"
      ]
     },
     "execution_count": 93,
     "metadata": {},
     "output_type": "execute_result"
    },
    {
     "data": {
      "image/png": "[encoded data removed]",
      "text/plain": [
       "<Figure size 432x288 with 1 Axes>"
      ]
     },
     "metadata": {
      "needs_background": "light"
     },
     "output_type": "display_data"
    }
   ],
   "source": [
    "from nltk.tokenize import RegexpTokenizer\n",
    "\n",
    "tokenizer = RegexpTokenizer(r'\\w+')\n",
    "words_df = impression.apply(lambda x : [i for i in tokenizer.tokenize(x) if i not in stop])\n",
    "words = words_df.values.tolist()\n",
    "words = [word for i in words for word in i]\n",
    "\n",
    "# try and repeat previous step\n",
    "impr_fdist = FreqDist(words)\n",
    "impr_fdist = pd.Series(dict(impr_fdist.most_common(20)))\n",
    "\n",
    "impr_fdist.plot.bar()"
   ]
  },
  {
   "attachments": {},
   "cell_type": "markdown",
   "id": "61378abb",
   "metadata": {},
   "source": [
    "That's better! Obviously, the word IMPRESSION and PERSONALNAME appear the most frequently, but luckily it seems like most patients are in good health with words like normal appearing very frequently."
   ]
  },
  {
   "attachments": {},
   "cell_type": "markdown",
   "id": "8158f10d",
   "metadata": {},
   "source": [
    "# Ngrams"
   ]
  },
  {
   "attachments": {},
   "cell_type": "markdown",
   "id": "c52fa38b",
   "metadata": {},
   "source": [
    "Being able to see which words appear together frequenty is a great way to analyze data. In this next part, I will be analyzing and finding bigrams."
   ]
  },
  {
   "cell_type": "code",
   "execution_count": 94,
   "id": "6b824fd8",
   "metadata": {},
   "outputs": [
    {
     "data": {
      "text/plain": [
       "<AxesSubplot:>"
      ]
     },
     "execution_count": 94,
     "metadata": {},
     "output_type": "execute_result"
    },
    {
     "data": {
      "image/png": "[encoded data removed]",
      "text/plain": [
       "<Figure size 432x288 with 1 Axes>"
      ]
     },
     "metadata": {
      "needs_background": "light"
     },
     "output_type": "display_data"
    }
   ],
   "source": [
    "from nltk.util import ngrams\n",
    "bigrams = words_df.apply(lambda x : list(ngrams(x,2))).values.tolist()\n",
    "bigrams = [bi for lis in bigrams for bi in lis]\n",
    "bi_freq = FreqDist(bigrams)\n",
    "\n",
    "# plotting the bigrams\n",
    "bi_fdist = pd.Series(dict(bi_freq.most_common(20)))\n",
    "bi_fdist.plot.bar()"
   ]
  },
  {
   "attachments": {},
   "cell_type": "markdown",
   "id": "d1085844",
   "metadata": {},
   "source": [
    "As from my previous assumption, it seems like most of the impressions involve the keywords \"impression normal\", which definitely seems to be a good thing for the patients recieving the exam. "
   ]
  },
  {
   "attachments": {},
   "cell_type": "markdown",
   "id": "d9753d08",
   "metadata": {},
   "source": [
    "# Word Clouds"
   ]
  },
  {
   "attachments": {},
   "cell_type": "markdown",
   "id": "dde4f03a",
   "metadata": {},
   "source": [
    "Now, we'll do a simple wordcloud diagram to visualize the data. Words that appear more frequently will be larger."
   ]
  },
  {
   "cell_type": "code",
   "execution_count": 50,
   "id": "7f077679",
   "metadata": {},
   "outputs": [
    {
     "ename": "ModuleNotFoundError",
     "evalue": "No module named 'wordcloud'",
     "output_type": "error",
     "traceback": [
      "\u001b[1;31m---------------------------------------------------------------------------\u001b[0m",
      "\u001b[1;31mModuleNotFoundError\u001b[0m                       Traceback (most recent call last)",
      "\u001b[1;32mc:\\Users\\lauri\\Documents\\open avenues\\open_ave.ipynb Cell 23\u001b[0m in \u001b[0;36m<cell line: 1>\u001b[1;34m()\u001b[0m\n\u001b[1;32m----> <a href='vscode-notebook-cell:/c%3A/Users/lauri/Documents/open%20avenues/open_ave.ipynb#X31sZmlsZQ%3D%3D?line=0'>1</a>\u001b[0m \u001b[39mimport\u001b[39;00m \u001b[39mwordcloud\u001b[39;00m\n\u001b[0;32m      <a href='vscode-notebook-cell:/c%3A/Users/lauri/Documents/open%20avenues/open_ave.ipynb#X31sZmlsZQ%3D%3D?line=1'>2</a>\u001b[0m \u001b[39mfrom\u001b[39;00m \u001b[39mwordcloud\u001b[39;00m \u001b[39mimport\u001b[39;00m WordCloud\n\u001b[0;32m      <a href='vscode-notebook-cell:/c%3A/Users/lauri/Documents/open%20avenues/open_ave.ipynb#X31sZmlsZQ%3D%3D?line=3'>4</a>\u001b[0m \u001b[39mdef\u001b[39;00m \u001b[39mshow_wordcloud\u001b[39m(data):\n",
      "\u001b[1;31mModuleNotFoundError\u001b[0m: No module named 'wordcloud'"
     ]
    }
   ],
   "source": [
    "import wordcloud\n",
    "from wordcloud import WordCloud\n",
    "\n",
    "def show_wordcloud(data):\n",
    "    wordcloud = WordCloud(\n",
    "        background_color='white',\n",
    "        stopwords=stopwords,\n",
    "        max_words=100,\n",
    "        max_font_size=30,\n",
    "        scale=3,\n",
    "        random_state=1)\n",
    "\n",
    "    wordcloud=wordcloud.generate(str(data))\n",
    "\n",
    "    fig = plt.figure(1, figsize=(12, 12))\n",
    "    plt.axis('off')\n",
    "\n",
    "    plt.imshow(wordcloud)\n",
    "    plt.show()\n",
    "\n",
    "show_wordcloud(words)"
   ]
  },
  {
   "cell_type": "code",
   "execution_count": null,
   "id": "22c9790f",
   "metadata": {},
   "outputs": [],
   "source": []
  }
 ],
 "metadata": {
  "kernelspec": {
   "display_name": "Python 3 (ipykernel)",
   "language": "python",
   "name": "python3"
  },
  "language_info": {
   "codemirror_mode": {
    "name": "ipython",
    "version": 3
   },
   "file_extension": ".py",
   "mimetype": "text/x-python",
   "name": "python",
   "nbconvert_exporter": "python",
   "pygments_lexer": "ipython3",
   "version": "3.9.12"
  }
 },
 "nbformat": 4,
 "nbformat_minor": 5
}
